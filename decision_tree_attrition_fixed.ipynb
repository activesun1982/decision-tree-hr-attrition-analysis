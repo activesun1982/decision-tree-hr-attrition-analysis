{
 "cells": [
  {
   "cell_type": "markdown",
   "id": "2999c575",
   "metadata": {},
   "source": [
    "# Decision Tree for HR Attrition Prediction\n",
    "\n",
    "This notebook demonstrates how to use a Decision Tree Classifier in Python to predict employee attrition using HR data. It is designed for learners with basic Python skills and includes step-by-step code with explanations."
   ]
  },
  {
   "cell_type": "markdown",
   "id": "55317132",
   "metadata": {},
   "source": [
    "## 🎯 Learning Objectives\n",
    "By the end of this notebook, you will be able to:\n",
    "- Understand the intuition and structure behind Decision Trees\n",
    "- Train a Decision Tree Classifier using `scikit-learn`\n",
    "- Interpret model output to identify key attrition drivers\n",
    "- Connect insights to real-world HR decisions"
   ]
  },
  {
   "cell_type": "code",
   "id": "50829cdf",
   "metadata": {
    "ExecuteTime": {
     "end_time": "2025-05-06T08:11:08.412430Z",
     "start_time": "2025-05-06T08:11:08.405429Z"
    }
   },
   "source": [
    "import pandas as pd\n",
    "import os\n",
    "\n",
    "from sklearn.model_selection import train_test_split\n",
    "from sklearn.tree import DecisionTreeClassifier, plot_tree\n",
    "from sklearn.metrics import accuracy_score, confusion_matrix, ConfusionMatrixDisplay\n",
    "import matplotlib.pyplot as plt"
   ],
   "outputs": [],
   "execution_count": 42
  },
  {
   "cell_type": "code",
   "id": "de270b86",
   "metadata": {
    "ExecuteTime": {
     "end_time": "2025-05-06T08:11:22.335293Z",
     "start_time": "2025-05-06T08:11:12.395406Z"
    }
   },
   "source": [
    "# Make sure this CSV is uploaded in your environment\n",
    "#df = pd.read_csv(\"WA_Fn-UseC_-HR-Employee-Attrition.csv\")\n",
    "#df.head()\n",
    "\n",
    "# Prompt user to enter path\n",
    "\n",
    "import tkinter as tk\n",
    "from tkinter import filedialog\n",
    "\n",
    "# Only works if GUI is available\n",
    "root = tk.Tk()\n",
    "root.withdraw()  # Hide the main window\n",
    "\n",
    "file_path = filedialog.askopenfilename(title=\"Select your CSV file\")\n",
    "if file_path:\n",
    "    df = pd.read_csv(file_path)\n",
    "    print(\"✅ File loaded successfully!\")\n",
    "    display(df.head())\n",
    "else:\n",
    "    print(\"❌ No file selected.\")"
   ],
   "outputs": [
    {
     "name": "stdout",
     "output_type": "stream",
     "text": [
      "✅ File loaded successfully!\n"
     ]
    },
    {
     "data": {
      "text/plain": [
       "   Age Attrition     BusinessTravel  DailyRate              Department  \\\n",
       "0   41       Yes      Travel_Rarely       1102                   Sales   \n",
       "1   49        No  Travel_Frequently        279  Research & Development   \n",
       "2   37       Yes      Travel_Rarely       1373  Research & Development   \n",
       "3   33        No  Travel_Frequently       1392  Research & Development   \n",
       "4   27        No      Travel_Rarely        591  Research & Development   \n",
       "\n",
       "   DistanceFromHome  Education EducationField  EmployeeCount  EmployeeNumber  \\\n",
       "0                 1          2  Life Sciences              1               1   \n",
       "1                 8          1  Life Sciences              1               2   \n",
       "2                 2          2          Other              1               4   \n",
       "3                 3          4  Life Sciences              1               5   \n",
       "4                 2          1        Medical              1               7   \n",
       "\n",
       "   ...  RelationshipSatisfaction StandardHours  StockOptionLevel  \\\n",
       "0  ...                         1            80                 0   \n",
       "1  ...                         4            80                 1   \n",
       "2  ...                         2            80                 0   \n",
       "3  ...                         3            80                 0   \n",
       "4  ...                         4            80                 1   \n",
       "\n",
       "   TotalWorkingYears  TrainingTimesLastYear WorkLifeBalance  YearsAtCompany  \\\n",
       "0                  8                      0               1               6   \n",
       "1                 10                      3               3              10   \n",
       "2                  7                      3               3               0   \n",
       "3                  8                      3               3               8   \n",
       "4                  6                      3               3               2   \n",
       "\n",
       "  YearsInCurrentRole  YearsSinceLastPromotion  YearsWithCurrManager  \n",
       "0                  4                        0                     5  \n",
       "1                  7                        1                     7  \n",
       "2                  0                        0                     0  \n",
       "3                  7                        3                     0  \n",
       "4                  2                        2                     2  \n",
       "\n",
       "[5 rows x 35 columns]"
      ],
      "text/html": [
       "<div>\n",
       "<style scoped>\n",
       "    .dataframe tbody tr th:only-of-type {\n",
       "        vertical-align: middle;\n",
       "    }\n",
       "\n",
       "    .dataframe tbody tr th {\n",
       "        vertical-align: top;\n",
       "    }\n",
       "\n",
       "    .dataframe thead th {\n",
       "        text-align: right;\n",
       "    }\n",
       "</style>\n",
       "<table border=\"1\" class=\"dataframe\">\n",
       "  <thead>\n",
       "    <tr style=\"text-align: right;\">\n",
       "      <th></th>\n",
       "      <th>Age</th>\n",
       "      <th>Attrition</th>\n",
       "      <th>BusinessTravel</th>\n",
       "      <th>DailyRate</th>\n",
       "      <th>Department</th>\n",
       "      <th>DistanceFromHome</th>\n",
       "      <th>Education</th>\n",
       "      <th>EducationField</th>\n",
       "      <th>EmployeeCount</th>\n",
       "      <th>EmployeeNumber</th>\n",
       "      <th>...</th>\n",
       "      <th>RelationshipSatisfaction</th>\n",
       "      <th>StandardHours</th>\n",
       "      <th>StockOptionLevel</th>\n",
       "      <th>TotalWorkingYears</th>\n",
       "      <th>TrainingTimesLastYear</th>\n",
       "      <th>WorkLifeBalance</th>\n",
       "      <th>YearsAtCompany</th>\n",
       "      <th>YearsInCurrentRole</th>\n",
       "      <th>YearsSinceLastPromotion</th>\n",
       "      <th>YearsWithCurrManager</th>\n",
       "    </tr>\n",
       "  </thead>\n",
       "  <tbody>\n",
       "    <tr>\n",
       "      <th>0</th>\n",
       "      <td>41</td>\n",
       "      <td>Yes</td>\n",
       "      <td>Travel_Rarely</td>\n",
       "      <td>1102</td>\n",
       "      <td>Sales</td>\n",
       "      <td>1</td>\n",
       "      <td>2</td>\n",
       "      <td>Life Sciences</td>\n",
       "      <td>1</td>\n",
       "      <td>1</td>\n",
       "      <td>...</td>\n",
       "      <td>1</td>\n",
       "      <td>80</td>\n",
       "      <td>0</td>\n",
       "      <td>8</td>\n",
       "      <td>0</td>\n",
       "      <td>1</td>\n",
       "      <td>6</td>\n",
       "      <td>4</td>\n",
       "      <td>0</td>\n",
       "      <td>5</td>\n",
       "    </tr>\n",
       "    <tr>\n",
       "      <th>1</th>\n",
       "      <td>49</td>\n",
       "      <td>No</td>\n",
       "      <td>Travel_Frequently</td>\n",
       "      <td>279</td>\n",
       "      <td>Research &amp; Development</td>\n",
       "      <td>8</td>\n",
       "      <td>1</td>\n",
       "      <td>Life Sciences</td>\n",
       "      <td>1</td>\n",
       "      <td>2</td>\n",
       "      <td>...</td>\n",
       "      <td>4</td>\n",
       "      <td>80</td>\n",
       "      <td>1</td>\n",
       "      <td>10</td>\n",
       "      <td>3</td>\n",
       "      <td>3</td>\n",
       "      <td>10</td>\n",
       "      <td>7</td>\n",
       "      <td>1</td>\n",
       "      <td>7</td>\n",
       "    </tr>\n",
       "    <tr>\n",
       "      <th>2</th>\n",
       "      <td>37</td>\n",
       "      <td>Yes</td>\n",
       "      <td>Travel_Rarely</td>\n",
       "      <td>1373</td>\n",
       "      <td>Research &amp; Development</td>\n",
       "      <td>2</td>\n",
       "      <td>2</td>\n",
       "      <td>Other</td>\n",
       "      <td>1</td>\n",
       "      <td>4</td>\n",
       "      <td>...</td>\n",
       "      <td>2</td>\n",
       "      <td>80</td>\n",
       "      <td>0</td>\n",
       "      <td>7</td>\n",
       "      <td>3</td>\n",
       "      <td>3</td>\n",
       "      <td>0</td>\n",
       "      <td>0</td>\n",
       "      <td>0</td>\n",
       "      <td>0</td>\n",
       "    </tr>\n",
       "    <tr>\n",
       "      <th>3</th>\n",
       "      <td>33</td>\n",
       "      <td>No</td>\n",
       "      <td>Travel_Frequently</td>\n",
       "      <td>1392</td>\n",
       "      <td>Research &amp; Development</td>\n",
       "      <td>3</td>\n",
       "      <td>4</td>\n",
       "      <td>Life Sciences</td>\n",
       "      <td>1</td>\n",
       "      <td>5</td>\n",
       "      <td>...</td>\n",
       "      <td>3</td>\n",
       "      <td>80</td>\n",
       "      <td>0</td>\n",
       "      <td>8</td>\n",
       "      <td>3</td>\n",
       "      <td>3</td>\n",
       "      <td>8</td>\n",
       "      <td>7</td>\n",
       "      <td>3</td>\n",
       "      <td>0</td>\n",
       "    </tr>\n",
       "    <tr>\n",
       "      <th>4</th>\n",
       "      <td>27</td>\n",
       "      <td>No</td>\n",
       "      <td>Travel_Rarely</td>\n",
       "      <td>591</td>\n",
       "      <td>Research &amp; Development</td>\n",
       "      <td>2</td>\n",
       "      <td>1</td>\n",
       "      <td>Medical</td>\n",
       "      <td>1</td>\n",
       "      <td>7</td>\n",
       "      <td>...</td>\n",
       "      <td>4</td>\n",
       "      <td>80</td>\n",
       "      <td>1</td>\n",
       "      <td>6</td>\n",
       "      <td>3</td>\n",
       "      <td>3</td>\n",
       "      <td>2</td>\n",
       "      <td>2</td>\n",
       "      <td>2</td>\n",
       "      <td>2</td>\n",
       "    </tr>\n",
       "  </tbody>\n",
       "</table>\n",
       "<p>5 rows × 35 columns</p>\n",
       "</div>"
      ]
     },
     "metadata": {},
     "output_type": "display_data"
    }
   ],
   "execution_count": 43
  },
  {
   "cell_type": "code",
   "id": "ceaa3248",
   "metadata": {
    "ExecuteTime": {
     "end_time": "2025-05-06T08:11:24.557120Z",
     "start_time": "2025-05-06T08:11:24.536116Z"
    }
   },
   "source": [
    "df = df[[\"Attrition\", \"Age\", \"JobSatisfaction\", \"MonthlyIncome\", \"DistanceFromHome\", \"OverTime\"]]\n",
    "df['Attrition'] = df['Attrition'].map({'Yes': 1, 'No': 0})\n",
    "df['OverTime'] = df['OverTime'].map({'Yes': 1, 'No': 0})\n",
    "df.head()"
   ],
   "outputs": [
    {
     "data": {
      "text/plain": [
       "   Attrition  Age  JobSatisfaction  MonthlyIncome  DistanceFromHome  OverTime\n",
       "0          1   41                4           5993                 1         1\n",
       "1          0   49                2           5130                 8         0\n",
       "2          1   37                3           2090                 2         1\n",
       "3          0   33                3           2909                 3         1\n",
       "4          0   27                2           3468                 2         0"
      ],
      "text/html": [
       "<div>\n",
       "<style scoped>\n",
       "    .dataframe tbody tr th:only-of-type {\n",
       "        vertical-align: middle;\n",
       "    }\n",
       "\n",
       "    .dataframe tbody tr th {\n",
       "        vertical-align: top;\n",
       "    }\n",
       "\n",
       "    .dataframe thead th {\n",
       "        text-align: right;\n",
       "    }\n",
       "</style>\n",
       "<table border=\"1\" class=\"dataframe\">\n",
       "  <thead>\n",
       "    <tr style=\"text-align: right;\">\n",
       "      <th></th>\n",
       "      <th>Attrition</th>\n",
       "      <th>Age</th>\n",
       "      <th>JobSatisfaction</th>\n",
       "      <th>MonthlyIncome</th>\n",
       "      <th>DistanceFromHome</th>\n",
       "      <th>OverTime</th>\n",
       "    </tr>\n",
       "  </thead>\n",
       "  <tbody>\n",
       "    <tr>\n",
       "      <th>0</th>\n",
       "      <td>1</td>\n",
       "      <td>41</td>\n",
       "      <td>4</td>\n",
       "      <td>5993</td>\n",
       "      <td>1</td>\n",
       "      <td>1</td>\n",
       "    </tr>\n",
       "    <tr>\n",
       "      <th>1</th>\n",
       "      <td>0</td>\n",
       "      <td>49</td>\n",
       "      <td>2</td>\n",
       "      <td>5130</td>\n",
       "      <td>8</td>\n",
       "      <td>0</td>\n",
       "    </tr>\n",
       "    <tr>\n",
       "      <th>2</th>\n",
       "      <td>1</td>\n",
       "      <td>37</td>\n",
       "      <td>3</td>\n",
       "      <td>2090</td>\n",
       "      <td>2</td>\n",
       "      <td>1</td>\n",
       "    </tr>\n",
       "    <tr>\n",
       "      <th>3</th>\n",
       "      <td>0</td>\n",
       "      <td>33</td>\n",
       "      <td>3</td>\n",
       "      <td>2909</td>\n",
       "      <td>3</td>\n",
       "      <td>1</td>\n",
       "    </tr>\n",
       "    <tr>\n",
       "      <th>4</th>\n",
       "      <td>0</td>\n",
       "      <td>27</td>\n",
       "      <td>2</td>\n",
       "      <td>3468</td>\n",
       "      <td>2</td>\n",
       "      <td>0</td>\n",
       "    </tr>\n",
       "  </tbody>\n",
       "</table>\n",
       "</div>"
      ]
     },
     "execution_count": 44,
     "metadata": {},
     "output_type": "execute_result"
    }
   ],
   "execution_count": 44
  },
  {
   "cell_type": "code",
   "id": "b1ade7c8",
   "metadata": {
    "ExecuteTime": {
     "end_time": "2025-05-06T08:11:27.126117Z",
     "start_time": "2025-05-06T08:11:27.112115Z"
    }
   },
   "source": [
    "X = df.drop(\"Attrition\", axis=1)\n",
    "y = df[\"Attrition\"]"
   ],
   "outputs": [],
   "execution_count": 45
  },
  {
   "cell_type": "code",
   "id": "cbac5e56",
   "metadata": {
    "ExecuteTime": {
     "end_time": "2025-05-06T08:11:28.587067Z",
     "start_time": "2025-05-06T08:11:28.578066Z"
    }
   },
   "source": [
    "X_train, X_test, y_train, y_test = train_test_split(X, y, test_size=0.2, random_state=42)"
   ],
   "outputs": [],
   "execution_count": 46
  },
  {
   "cell_type": "code",
   "id": "62c81b92",
   "metadata": {
    "ExecuteTime": {
     "end_time": "2025-05-06T08:11:30.100013Z",
     "start_time": "2025-05-06T08:11:30.083010Z"
    }
   },
   "source": [
    "model = DecisionTreeClassifier(max_depth=3, random_state=42)\n",
    "model.fit(X_train, y_train)"
   ],
   "outputs": [
    {
     "data": {
      "text/plain": [
       "DecisionTreeClassifier(max_depth=3, random_state=42)"
      ]
     },
     "execution_count": 47,
     "metadata": {},
     "output_type": "execute_result"
    }
   ],
   "execution_count": 47
  },
  {
   "cell_type": "code",
   "id": "cc310663",
   "metadata": {
    "ExecuteTime": {
     "end_time": "2025-05-06T08:11:31.441872Z",
     "start_time": "2025-05-06T08:11:31.426026Z"
    }
   },
   "source": [
    "y_pred = model.predict(X_test)\n",
    "print(\"Accuracy Score:\", accuracy_score(y_test, y_pred))"
   ],
   "outputs": [
    {
     "name": "stdout",
     "output_type": "stream",
     "text": [
      "Accuracy Score: 0.8503401360544217\n"
     ]
    }
   ],
   "execution_count": 48
  },
  {
   "cell_type": "code",
   "id": "4e8da916",
   "metadata": {
    "ExecuteTime": {
     "end_time": "2025-05-06T08:11:33.138007Z",
     "start_time": "2025-05-06T08:11:32.713864Z"
    }
   },
   "source": [
    "from sklearn.tree import plot_tree\n",
    "import matplotlib.pyplot as plt\n",
    "\n",
    "plt.figure(figsize=(12, 6))\n",
    "plot_tree(\n",
    "    model,\n",
    "    feature_names=X.columns,\n",
    "    class_names=[\"Stay\", \"Leave\"],\n",
    "    filled=True,\n",
    "    impurity=False,)\n",
    "plt.title(\"Decision Tree for Employee Attrition\")\n",
    "plt.show()\n",
    "\n",
    "#“What’s the business interpretation of OverTime ≤ 0.5 being the first split?”\n",
    "#“If you were HR, what action would you take for employees working overtime and earning < $2,500?”"
   ],
   "outputs": [
    {
     "data": {
      "text/plain": [
       "<Figure size 1200x600 with 1 Axes>"
      ],
      "image/png": "[encoded data removed]"
     },
     "metadata": {},
     "output_type": "display_data"
    }
   ],
   "execution_count": 49
  },
  {
   "cell_type": "code",
   "id": "7fca3965",
   "metadata": {
    "ExecuteTime": {
     "end_time": "2025-05-06T08:11:47.945170Z",
     "start_time": "2025-05-06T08:11:47.915163Z"
    }
   },
   "source": [
    "import pandas as pd\n",
    "import matplotlib.pyplot as plt\n",
    "import seaborn as sns\n",
    "from sklearn.model_selection import train_test_split\n",
    "from sklearn.tree import DecisionTreeClassifier\n",
    "from sklearn.metrics import confusion_matrix\n",
    "\n",
    "# Load and preprocess dataset\n",
    "df = pd.read_csv(\"WA_Fn-UseC_-HR-Employee-Attrition.csv\")\n",
    "df = df[[\"Attrition\", \"Age\", \"JobSatisfaction\", \"MonthlyIncome\", \"DistanceFromHome\", \"OverTime\"]]\n",
    "df[\"Attrition\"] = df[\"Attrition\"].map({\"Yes\": 1, \"No\": 0})\n",
    "df[\"OverTime\"] = df[\"OverTime\"].map({\"Yes\": 1, \"No\": 0})\n",
    "\n",
    "X = df.drop(\"Attrition\", axis=1)\n",
    "y = df[\"Attrition\"]\n",
    "\n",
    "# Train/test split\n",
    "X_train, X_test, y_train, y_test = train_test_split(X, y, test_size=0.2, random_state=42)\n",
    "\n",
    "# Train model\n",
    "model = DecisionTreeClassifier(max_depth=3, random_state=42)\n",
    "model.fit(X_train, y_train)\n",
    "\n",
    "# Predict\n",
    "y_pred = model.predict(X_test)\n",
    "cm = confusion_matrix(y_test, y_pred)\n",
    "\n",
    "# Define base heatmap with colored background\n",
    "colors = [[\"green\", \"blue\"], [\"yellow\", \"red\"]]\n",
    "flat_colors = sum(colors, [])  # Flatten the list\n",
    "plt.figure(figsize=(6, 5))\n",
    "ax = sns.heatmap(cm, annot=True, fmt='d', cmap=sns.color_palette(flat_colors, as_cmap=True),\n",
    "                 xticklabels=[\"Stay\", \"Leave\"], yticklabels=[\"Stay\", \"Leave\"],\n",
    "                 cbar=False, linewidths=0.5, linecolor='black', square=True)\n",
    "\n",
    "# Custom overlay labels\n",
    "labels = [[\"✅ True Stay\", \"❌ False Leave\"],\n",
    "          [\"⚠️ False Stay\", \"✅ True Leave\"]]\n",
    "\n",
    "for i in range(2):\n",
    "    for j in range(2):\n",
    "        ax.text(j + 0.5, i + 0.8, labels[i][j],\n",
    "                ha='center', va='center', fontsize=9, color='black', weight='bold')\n",
    "\n",
    "plt.xlabel(\"Predicted\")\n",
    "plt.ylabel(\"Actual\")\n",
    "plt.title(\"Confusion Matrix – Color Coded with Labels\")\n",
    "plt.tight_layout()\n",
    "plt.show()\n",
    "\n"
   ],
   "outputs": [
    {
     "ename": "ModuleNotFoundError",
     "evalue": "No module named 'seaborn'",
     "output_type": "error",
     "traceback": [
      "\u001B[1;31m---------------------------------------------------------------------------\u001B[0m",
      "\u001B[1;31mModuleNotFoundError\u001B[0m                       Traceback (most recent call last)",
      "Cell \u001B[1;32mIn[51], line 3\u001B[0m\n\u001B[0;32m      1\u001B[0m \u001B[38;5;28;01mimport\u001B[39;00m\u001B[38;5;250m \u001B[39m\u001B[38;5;21;01mpandas\u001B[39;00m\u001B[38;5;250m \u001B[39m\u001B[38;5;28;01mas\u001B[39;00m\u001B[38;5;250m \u001B[39m\u001B[38;5;21;01mpd\u001B[39;00m\n\u001B[0;32m      2\u001B[0m \u001B[38;5;28;01mimport\u001B[39;00m\u001B[38;5;250m \u001B[39m\u001B[38;5;21;01mmatplotlib\u001B[39;00m\u001B[38;5;21;01m.\u001B[39;00m\u001B[38;5;21;01mpyplot\u001B[39;00m\u001B[38;5;250m \u001B[39m\u001B[38;5;28;01mas\u001B[39;00m\u001B[38;5;250m \u001B[39m\u001B[38;5;21;01mplt\u001B[39;00m\n\u001B[1;32m----> 3\u001B[0m \u001B[38;5;28;01mimport\u001B[39;00m\u001B[38;5;250m \u001B[39m\u001B[38;5;21;01mseaborn\u001B[39;00m\u001B[38;5;250m \u001B[39m\u001B[38;5;28;01mas\u001B[39;00m\u001B[38;5;250m \u001B[39m\u001B[38;5;21;01msns\u001B[39;00m\n\u001B[0;32m      4\u001B[0m \u001B[38;5;28;01mfrom\u001B[39;00m\u001B[38;5;250m \u001B[39m\u001B[38;5;21;01msklearn\u001B[39;00m\u001B[38;5;21;01m.\u001B[39;00m\u001B[38;5;21;01mmodel_selection\u001B[39;00m\u001B[38;5;250m \u001B[39m\u001B[38;5;28;01mimport\u001B[39;00m train_test_split\n\u001B[0;32m      5\u001B[0m \u001B[38;5;28;01mfrom\u001B[39;00m\u001B[38;5;250m \u001B[39m\u001B[38;5;21;01msklearn\u001B[39;00m\u001B[38;5;21;01m.\u001B[39;00m\u001B[38;5;21;01mtree\u001B[39;00m\u001B[38;5;250m \u001B[39m\u001B[38;5;28;01mimport\u001B[39;00m DecisionTreeClassifier\n",
      "\u001B[1;31mModuleNotFoundError\u001B[0m: No module named 'seaborn'"
     ]
    }
   ],
   "execution_count": 51
  },
  {
   "cell_type": "code",
   "id": "679d1074",
   "metadata": {
    "ExecuteTime": {
     "end_time": "2025-05-06T07:37:51.648644Z",
     "start_time": "2025-05-06T07:37:51.639628Z"
    }
   },
   "source": [
    "#understanding the importance of drivers / levers based on feature importance\n",
    "\n",
    "importance = pd.Series(model.feature_importances_, index=X.columns).sort_values(ascending=False)\n",
    "print(\"Feature Importances:\\n\", importance)"
   ],
   "outputs": [
    {
     "name": "stdout",
     "output_type": "stream",
     "text": [
      "Feature Importances:\n",
      " MonthlyIncome       0.527081\n",
      "OverTime            0.365678\n",
      "Age                 0.064874\n",
      "DistanceFromHome    0.042366\n",
      "JobSatisfaction     0.000000\n",
      "dtype: float64\n"
     ]
    }
   ],
   "execution_count": 29
  },
  {
   "metadata": {},
   "cell_type": "code",
   "outputs": [],
   "execution_count": null,
   "source": "",
   "id": "ee6c98393f7b9cd0"
  },
  {
   "metadata": {
    "ExecuteTime": {
     "end_time": "2025-05-06T07:58:07.124122Z",
     "start_time": "2025-05-06T07:58:07.069110Z"
    }
   },
   "cell_type": "code",
   "source": [
    "# Prepare experiment\n",
    "results = []\n",
    "test_sizes = [0.1, 0.2, 0.3]\n",
    "random_states = [1, 42, 99]\n",
    "\n",
    "# Loop over combinations\n",
    "for test_size in test_sizes:\n",
    "    for rand in random_states:\n",
    "        X_train, X_test, y_train, y_test = train_test_split(X, y, test_size=test_size, random_state=rand)\n",
    "        model = DecisionTreeClassifier(max_depth=3, random_state=rand)\n",
    "        model.fit(X_train, y_train)\n",
    "        y_pred = model.predict(X_test)\n",
    "        acc = accuracy_score(y_test, y_pred)\n",
    "        fi = model.feature_importances_\n",
    "\n",
    "        results.append({\n",
    "            \"test_size\": test_size,\n",
    "            \"random_state\": rand,\n",
    "            \"accuracy\": round(acc, 3),\n",
    "            \"Age_importance\": round(fi[0], 3),\n",
    "            \"JobSatisfaction_importance\": round(fi[1], 3),\n",
    "            \"MonthlyIncome_importance\": round(fi[2], 3),\n",
    "            \"DistanceFromHome_importance\": round(fi[3], 3),\n",
    "            \"OverTime_importance\": round(fi[4], 3)\n",
    "        })\n",
    "\n",
    "# Convert to DataFrame\n",
    "results_df = pd.DataFrame(results)\n",
    "results_df\n",
    "\n",
    "#💡 What students learn from this:\n",
    "#How model accuracy varies by test split and seed\n",
    "#Which features consistently matter most\n",
    "#Why tuning and reproducibility matter in ML"
   ],
   "id": "a5c23866a504d817",
   "outputs": [
    {
     "data": {
      "text/plain": [
       "   test_size  random_state  accuracy  Age_importance  \\\n",
       "0        0.1             1     0.796           0.165   \n",
       "1        0.1            42     0.830           0.073   \n",
       "2        0.1            99     0.864           0.057   \n",
       "3        0.2             1     0.827           0.179   \n",
       "4        0.2            42     0.850           0.065   \n",
       "5        0.2            99     0.840           0.214   \n",
       "6        0.3             1     0.850           0.165   \n",
       "7        0.3            42     0.857           0.129   \n",
       "8        0.3            99     0.848           0.184   \n",
       "\n",
       "   JobSatisfaction_importance  MonthlyIncome_importance  \\\n",
       "0                       0.000                     0.394   \n",
       "1                       0.000                     0.530   \n",
       "2                       0.026                     0.528   \n",
       "3                       0.000                     0.393   \n",
       "4                       0.000                     0.527   \n",
       "5                       0.000                     0.408   \n",
       "6                       0.000                     0.399   \n",
       "7                       0.000                     0.463   \n",
       "8                       0.000                     0.426   \n",
       "\n",
       "   DistanceFromHome_importance  OverTime_importance  \n",
       "0                        0.089                0.352  \n",
       "1                        0.050                0.347  \n",
       "2                        0.050                0.339  \n",
       "3                        0.095                0.333  \n",
       "4                        0.042                0.366  \n",
       "5                        0.000                0.378  \n",
       "6                        0.078                0.358  \n",
       "7                        0.057                0.351  \n",
       "8                        0.044                0.345  "
      ],
      "text/html": [
       "<div>\n",
       "<style scoped>\n",
       "    .dataframe tbody tr th:only-of-type {\n",
       "        vertical-align: middle;\n",
       "    }\n",
       "\n",
       "    .dataframe tbody tr th {\n",
       "        vertical-align: top;\n",
       "    }\n",
       "\n",
       "    .dataframe thead th {\n",
       "        text-align: right;\n",
       "    }\n",
       "</style>\n",
       "<table border=\"1\" class=\"dataframe\">\n",
       "  <thead>\n",
       "    <tr style=\"text-align: right;\">\n",
       "      <th></th>\n",
       "      <th>test_size</th>\n",
       "      <th>random_state</th>\n",
       "      <th>accuracy</th>\n",
       "      <th>Age_importance</th>\n",
       "      <th>JobSatisfaction_importance</th>\n",
       "      <th>MonthlyIncome_importance</th>\n",
       "      <th>DistanceFromHome_importance</th>\n",
       "      <th>OverTime_importance</th>\n",
       "    </tr>\n",
       "  </thead>\n",
       "  <tbody>\n",
       "    <tr>\n",
       "      <th>0</th>\n",
       "      <td>0.1</td>\n",
       "      <td>1</td>\n",
       "      <td>0.796</td>\n",
       "      <td>0.165</td>\n",
       "      <td>0.000</td>\n",
       "      <td>0.394</td>\n",
       "      <td>0.089</td>\n",
       "      <td>0.352</td>\n",
       "    </tr>\n",
       "    <tr>\n",
       "      <th>1</th>\n",
       "      <td>0.1</td>\n",
       "      <td>42</td>\n",
       "      <td>0.830</td>\n",
       "      <td>0.073</td>\n",
       "      <td>0.000</td>\n",
       "      <td>0.530</td>\n",
       "      <td>0.050</td>\n",
       "      <td>0.347</td>\n",
       "    </tr>\n",
       "    <tr>\n",
       "      <th>2</th>\n",
       "      <td>0.1</td>\n",
       "      <td>99</td>\n",
       "      <td>0.864</td>\n",
       "      <td>0.057</td>\n",
       "      <td>0.026</td>\n",
       "      <td>0.528</td>\n",
       "      <td>0.050</td>\n",
       "      <td>0.339</td>\n",
       "    </tr>\n",
       "    <tr>\n",
       "      <th>3</th>\n",
       "      <td>0.2</td>\n",
       "      <td>1</td>\n",
       "      <td>0.827</td>\n",
       "      <td>0.179</td>\n",
       "      <td>0.000</td>\n",
       "      <td>0.393</td>\n",
       "      <td>0.095</td>\n",
       "      <td>0.333</td>\n",
       "    </tr>\n",
       "    <tr>\n",
       "      <th>4</th>\n",
       "      <td>0.2</td>\n",
       "      <td>42</td>\n",
       "      <td>0.850</td>\n",
       "      <td>0.065</td>\n",
       "      <td>0.000</td>\n",
       "      <td>0.527</td>\n",
       "      <td>0.042</td>\n",
       "      <td>0.366</td>\n",
       "    </tr>\n",
       "    <tr>\n",
       "      <th>5</th>\n",
       "      <td>0.2</td>\n",
       "      <td>99</td>\n",
       "      <td>0.840</td>\n",
       "      <td>0.214</td>\n",
       "      <td>0.000</td>\n",
       "      <td>0.408</td>\n",
       "      <td>0.000</td>\n",
       "      <td>0.378</td>\n",
       "    </tr>\n",
       "    <tr>\n",
       "      <th>6</th>\n",
       "      <td>0.3</td>\n",
       "      <td>1</td>\n",
       "      <td>0.850</td>\n",
       "      <td>0.165</td>\n",
       "      <td>0.000</td>\n",
       "      <td>0.399</td>\n",
       "      <td>0.078</td>\n",
       "      <td>0.358</td>\n",
       "    </tr>\n",
       "    <tr>\n",
       "      <th>7</th>\n",
       "      <td>0.3</td>\n",
       "      <td>42</td>\n",
       "      <td>0.857</td>\n",
       "      <td>0.129</td>\n",
       "      <td>0.000</td>\n",
       "      <td>0.463</td>\n",
       "      <td>0.057</td>\n",
       "      <td>0.351</td>\n",
       "    </tr>\n",
       "    <tr>\n",
       "      <th>8</th>\n",
       "      <td>0.3</td>\n",
       "      <td>99</td>\n",
       "      <td>0.848</td>\n",
       "      <td>0.184</td>\n",
       "      <td>0.000</td>\n",
       "      <td>0.426</td>\n",
       "      <td>0.044</td>\n",
       "      <td>0.345</td>\n",
       "    </tr>\n",
       "  </tbody>\n",
       "</table>\n",
       "</div>"
      ]
     },
     "execution_count": 31,
     "metadata": {},
     "output_type": "execute_result"
    }
   ],
   "execution_count": 31
  },
  {
   "cell_type": "markdown",
   "id": "a516fdd7",
   "metadata": {},
   "source": [
    "## 🧠 Reflection Questions\n",
    "- Which features are most influential in predicting attrition?\n",
    "- How would you act on this insight as an HR leader?\n",
    "- Would you use this model to automate decisions or guide conversations?\n"
   ]
  }
 ],
 "metadata": {
  "kernelspec": {
   "name": "python3",
   "language": "python",
   "display_name": "Python 3 (ipykernel)"
  }
 },
 "nbformat": 4,
 "nbformat_minor": 5
}
