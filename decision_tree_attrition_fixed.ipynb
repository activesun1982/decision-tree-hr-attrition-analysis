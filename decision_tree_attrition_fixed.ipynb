{
 "cells": [
  {
   "cell_type": "markdown",
   "id": "2999c575",
   "metadata": {},
   "source": [
    "# Decision Tree for HR Attrition Prediction\n",
    "\n",
    "This notebook demonstrates how to use a Decision Tree Classifier in Python to predict employee attrition using HR data. It is designed for learners with basic Python skills and includes step-by-step code with explanations."
   ]
  },
  {
   "cell_type": "markdown",
   "id": "55317132",
   "metadata": {},
   "source": [
    "## 🎯 Learning Objectives\n",
    "By the end of this notebook, you will be able to:\n",
    "- Understand the intuition and structure behind Decision Trees\n",
    "- Train a Decision Tree Classifier using `scikit-learn`\n",
    "- Interpret model output to identify key attrition drivers\n",
    "- Connect insights to real-world HR decisions"
   ]
  },
  {
   "cell_type": "code",
   "execution_count": null,
   "id": "50829cdf",
   "metadata": {},
   "outputs": [],
   "source": [
    "import pandas as pd\n",
    "from sklearn.model_selection import train_test_split\n",
    "from sklearn.tree import DecisionTreeClassifier, plot_tree\n",
    "from sklearn.metrics import accuracy_score, confusion_matrix, ConfusionMatrixDisplay\n",
    "import matplotlib.pyplot as plt"
   ]
  },
  {
   "cell_type": "code",
   "execution_count": null,
   "id": "de270b86",
   "metadata": {},
   "outputs": [],
   "source": [
    "# Make sure this CSV is uploaded in your environment\n",
    "df = pd.read_csv(\"WA_Fn-UseC_-HR-Employee-Attrition.csv\")\n",
    "df.head()"
   ]
  },
  {
   "cell_type": "code",
   "execution_count": null,
   "id": "ceaa3248",
   "metadata": {},
   "outputs": [],
   "source": [
    "df = df[[\"Attrition\", \"Age\", \"JobSatisfaction\", \"MonthlyIncome\", \"DistanceFromHome\", \"OverTime\"]]\n",
    "df['Attrition'] = df['Attrition'].map({'Yes': 1, 'No': 0})\n",
    "df['OverTime'] = df['OverTime'].map({'Yes': 1, 'No': 0})\n",
    "df.head()"
   ]
  },
  {
   "cell_type": "code",
   "execution_count": null,
   "id": "b1ade7c8",
   "metadata": {},
   "outputs": [],
   "source": [
    "X = df.drop(\"Attrition\", axis=1)\n",
    "y = df[\"Attrition\"]"
   ]
  },
  {
   "cell_type": "code",
   "execution_count": null,
   "id": "cbac5e56",
   "metadata": {},
   "outputs": [],
   "source": [
    "X_train, X_test, y_train, y_test = train_test_split(X, y, test_size=0.2, random_state=42)"
   ]
  },
  {
   "cell_type": "code",
   "execution_count": null,
   "id": "62c81b92",
   "metadata": {},
   "outputs": [],
   "source": [
    "model = DecisionTreeClassifier(max_depth=3, random_state=42)\n",
    "model.fit(X_train, y_train)"
   ]
  },
  {
   "cell_type": "code",
   "execution_count": null,
   "id": "cc310663",
   "metadata": {},
   "outputs": [],
   "source": [
    "y_pred = model.predict(X_test)\n",
    "print(\"Accuracy Score:\", accuracy_score(y_test, y_pred))"
   ]
  },
  {
   "cell_type": "code",
   "execution_count": null,
   "id": "4e8da916",
   "metadata": {},
   "outputs": [],
   "source": [
    "plt.figure(figsize=(15, 8))\n",
    "plot_tree(model, feature_names=X.columns, class_names=[\"Stay\", \"Leave\"], filled=True)\n",
    "plt.title(\"Decision Tree to Predict Employee Attrition\")\n",
    "plt.show()"
   ]
  },
  {
   "cell_type": "code",
   "execution_count": null,
   "id": "7fca3965",
   "metadata": {},
   "outputs": [],
   "source": [
    "ConfusionMatrixDisplay.from_estimator(model, X_test, y_test, display_labels=[\"Stay\", \"Leave\"])\n",
    "plt.title(\"Confusion Matrix\")\n",
    "plt.show()"
   ]
  },
  {
   "cell_type": "code",
   "execution_count": null,
   "id": "679d1074",
   "metadata": {},
   "outputs": [],
   "source": [
    "importance = pd.Series(model.feature_importances_, index=X.columns).sort_values(ascending=False)\n",
    "print(\"Feature Importances:\\n\", importance)"
   ]
  },
  {
   "cell_type": "markdown",
   "id": "a516fdd7",
   "metadata": {},
   "source": [
    "## 🧠 Reflection Questions\n",
    "- Which features are most influential in predicting attrition?\n",
    "- How would you act on this insight as an HR leader?\n",
    "- Would you use this model to automate decisions or guide conversations?\n"
   ]
  }
 ],
 "metadata": {},
 "nbformat": 4,
 "nbformat_minor": 5
}
