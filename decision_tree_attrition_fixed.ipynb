{
 "cells": [
  {
   "cell_type": "markdown",
   "id": "2999c575",
   "metadata": {},
   "source": [
    "# Decision Tree for HR Attrition Prediction\n",
    "\n",
    "This notebook demonstrates how to use a Decision Tree Classifier in Python to predict employee attrition using HR data. It is designed for learners with basic Python skills and includes step-by-step code with explanations."
   ]
  },
  {
   "cell_type": "markdown",
   "id": "55317132",
   "metadata": {},
   "source": [
    "## 🎯 Learning Objectives\n",
    "By the end of this notebook, you will be able to:\n",
    "- Understand the intuition and structure behind Decision Trees\n",
    "- Train a Decision Tree Classifier using `scikit-learn`\n",
    "- Interpret model output to identify key attrition drivers\n",
    "- Connect insights to real-world HR decisions"
   ]
  },
  {
   "metadata": {},
   "cell_type": "markdown",
   "source": "Step 1: Get the dependencies setup",
   "id": "e65e2799b43ae682"
  },
  {
   "cell_type": "code",
   "id": "50829cdf",
   "metadata": {},
   "source": [
    "#visit the requirements.txt to see the dependency packages to pip install\n",
    "#e.g. run for the dependency in the requirements.txt: !pip install seaborn --user\n",
    "\n",
    "#alternatively you can run the below script for requirements.txt\n",
    "#pip install -r requirements.txt\n",
    "\n",
    "import pandas as pd\n",
    "import os\n",
    "\n",
    "from sklearn.model_selection import train_test_split\n",
    "from sklearn.tree import DecisionTreeClassifier, plot_tree\n",
    "from sklearn.metrics import accuracy_score, confusion_matrix, ConfusionMatrixDisplay\n",
    "import matplotlib.pyplot as plt"
   ],
   "outputs": [],
   "execution_count": null
  },
  {
   "metadata": {},
   "cell_type": "markdown",
   "source": "Step 2: Upload the dataset",
   "id": "c6a6290b92643e82"
  },
  {
   "cell_type": "code",
   "id": "de270b86",
   "metadata": {},
   "source": [
    "# Make sure this CSV is uploaded in your environment\n",
    "#df = pd.read_csv(\"WA_Fn-UseC_-HR-Employee-Attrition.csv\")\n",
    "#df.head()\n",
    "\n",
    "# Prompt user to enter path\n",
    "\n",
    "import tkinter as tk\n",
    "from tkinter import filedialog\n",
    "\n",
    "# Only works if GUI is available\n",
    "root = tk.Tk()\n",
    "root.withdraw()  # Hide the main window\n",
    "\n",
    "file_path = filedialog.askopenfilename(title=\"Select your CSV file\")\n",
    "if file_path:\n",
    "    df = pd.read_csv(file_path)\n",
    "    print(\"✅ File loaded successfully!\")\n",
    "    display(df.head())\n",
    "else:\n",
    "    print(\"❌ No file selected.\")"
   ],
   "outputs": [],
   "execution_count": null
  },
  {
   "metadata": {},
   "cell_type": "markdown",
   "source": "Step 3: Select the features/variables/levers and map them",
   "id": "ea0bd4db2b40cca3"
  },
  {
   "cell_type": "code",
   "id": "ceaa3248",
   "metadata": {},
   "source": [
    "df = df[[\"Attrition\", \"Age\", \"JobSatisfaction\", \"MonthlyIncome\", \"DistanceFromHome\", \"OverTime\"]]\n",
    "df['Attrition'] = df['Attrition'].map({'Yes': 1, 'No': 0})\n",
    "df['OverTime'] = df['OverTime'].map({'Yes': 1, 'No': 0})\n",
    "df.head()"
   ],
   "outputs": [],
   "execution_count": null
  },
  {
   "metadata": {},
   "cell_type": "markdown",
   "source": "Step 4: Assign the target (aka outcome) as y and assign the drivers as x",
   "id": "40283645a25095cd"
  },
  {
   "cell_type": "code",
   "id": "b1ade7c8",
   "metadata": {},
   "source": [
    "X = df.drop(\"Attrition\", axis=1)\n",
    "y = df[\"Attrition\"]"
   ],
   "outputs": [],
   "execution_count": null
  },
  {
   "metadata": {},
   "cell_type": "markdown",
   "source": [
    "Step 5: Setup the data for training and testing\n",
    "Note that the x is different from step 4. X is the training set and y is the testing set."
   ],
   "id": "84660c32ebdf78fc"
  },
  {
   "cell_type": "code",
   "id": "cbac5e56",
   "metadata": {},
   "source": [
    "X_train, X_test, y_train, y_test = train_test_split(X, y, test_size=0.2, random_state=42)\n",
    "\n",
    "#Note for Step 5 a: The [test_size] is the how much of the data is set aside for testing (to evaluate the model on unseen data)\n",
    "\n",
    "#Discussion: Why does test_size matter?\n",
    "\n",
    "#Note for Step 5 b: The [random_state] is the specific pattern number that you get the model to choose.\n",
    "\n",
    "#Discussion: Why do we assign 42 as the placement value?\n",
    "\n",
    "#Is it for reproducibility? For debugging? For Fair comparison?"
   ],
   "outputs": [],
   "execution_count": null
  },
  {
   "metadata": {},
   "cell_type": "markdown",
   "source": "Step 6: Setup the decision tree model and run",
   "id": "cb12be31e6d11f37"
  },
  {
   "cell_type": "code",
   "id": "62c81b92",
   "metadata": {},
   "source": [
    "model = DecisionTreeClassifier(max_depth=3, random_state=42)\n",
    "model.fit(X_train, y_train)\n",
    "\n",
    "#Discussion: What is [max_depth]? Why do we pick the value as 3?\n",
    "#Discussion: Is adding more value to max_depth good or bad?\n",
    "#Discussion: Why do we assign 42 for [random_state] as the placement value?"
   ],
   "outputs": [],
   "execution_count": null
  },
  {
   "metadata": {},
   "cell_type": "markdown",
   "source": "Step 7: Interpreting the output of the model (Explainability / Interpretability)",
   "id": "f49eaefde6e99aea"
  },
  {
   "metadata": {},
   "cell_type": "code",
   "source": [
    "from sklearn.tree import plot_tree\n",
    "import matplotlib.pyplot as plt\n",
    "\n",
    "plt.figure(figsize=(12, 6))\n",
    "plot_tree(\n",
    "    model,\n",
    "    feature_names=X.columns,\n",
    "    class_names=[\"Stay\", \"Leave\"],\n",
    "    filled=True,\n",
    "    impurity=False,)\n",
    "plt.title(\"Decision Tree for Employee Attrition\")\n",
    "plt.show()\n",
    "\n",
    "#“What’s the business interpretation of OverTime ≤ 0.5 being the first split?”\n",
    "#“If you were HR, what action would you take for employees working overtime and earning < $2,500?”\n",
    "# Discussion: so if these are actions that you can take, what's your next thought? Is the model accurate?"
   ],
   "id": "3c49c14d84fae97d",
   "outputs": [],
   "execution_count": null
  },
  {
   "metadata": {},
   "cell_type": "markdown",
   "source": "Step 8 Evaluating the accuracy of the model",
   "id": "28da7d3ff610931f"
  },
  {
   "cell_type": "code",
   "id": "4e8da916",
   "metadata": {},
   "source": [
    "y_pred = model.predict(X_test)\n",
    "print(\"Accuracy Score:\", accuracy_score(y_test, y_pred))\n",
    "\n",
    "#Discussion: How many predictions are correct?\n",
    "#Discussion: What is the limitation of this test?\n",
    "#Discussion: Why is that even though accuracy is easy to understand it is not always the best metric?\n",
    "#Discussion: If the model is accurate, can we explain the outcome of the model?"
   ],
   "outputs": [],
   "execution_count": null
  },
  {
   "metadata": {},
   "cell_type": "markdown",
   "source": "Step 9: Running the confusion matrix as another validator",
   "id": "c1cca71de50927f3"
  },
  {
   "cell_type": "code",
   "id": "7fca3965",
   "metadata": {},
   "source": [
    "import pandas as pd\n",
    "import matplotlib.pyplot as plt\n",
    "import numpy as np\n",
    "import seaborn as sns\n",
    "from sklearn.model_selection import train_test_split\n",
    "from sklearn.tree import DecisionTreeClassifier\n",
    "from sklearn.metrics import confusion_matrix\n",
    "\n",
    "# Train model\n",
    "#model = DecisionTreeClassifier(max_depth=3, random_state=42)\n",
    "#model.fit(X_train, y_train)\n",
    "\n",
    "# Predict\n",
    "y_pred = model.predict(X_test)\n",
    "cm = confusion_matrix(y_test, y_pred)\n",
    "\n",
    "# Define base heatmap with colored background\n",
    "\n",
    "# Set manual colors per cell (based on position)\n",
    "cell_colors = np.array([[\"green\", \"blue\"],\n",
    "                        [\"yellow\", \"red\"]])\n",
    "\n",
    "# Plot square patches with fixed colors\n",
    "fig, ax = plt.subplots(figsize=(6, 5))\n",
    "for i in range(2):\n",
    "    for j in range(2):\n",
    "        ax.add_patch(plt.Rectangle((j, i), 1, 1, color=cell_colors[i][j]))\n",
    "\n",
    "# Overlay numeric confusion matrix values\n",
    "for i in range(2):\n",
    "    for j in range(2):\n",
    "        ax.text(j + 0.5, i + 0.3, cm[i, j], ha='center', va='center',\n",
    "                fontsize=16, color='black', fontweight='bold')\n",
    "\n",
    "# Custom descriptive labels\n",
    "labels = [[\"True Stay\", \"False Leave\"],\n",
    "          [\"False Stay\", \"True Leave\"]]\n",
    "\n",
    "for i in range(2):\n",
    "    for j in range(2):\n",
    "        ax.text(j + 0.5, i + 0.75, labels[i][j],\n",
    "                ha='center', va='center', fontsize=10, color='white', fontweight='bold')\n",
    "\n",
    "# Axis setup\n",
    "ax.set_xticks([0.5, 1.5])\n",
    "ax.set_yticks([0.5, 1.5])\n",
    "ax.set_xticklabels([\"Stay\", \"Leave\"])\n",
    "ax.set_yticklabels([\"Stay\", \"Leave\"])\n",
    "ax.set_xlabel(\"Predicted\")\n",
    "ax.set_ylabel(\"Actual\")\n",
    "ax.set_title(\"Confusion Matrix – Color Coded with Labels\")\n",
    "ax.set_xlim(0, 2)\n",
    "ax.set_ylim(0, 2)\n",
    "ax.invert_yaxis()\n",
    "ax.set_aspect('equal')\n",
    "plt.grid(False)\n",
    "plt.tight_layout()\n",
    "plt.show()\n",
    "\n",
    "#Discussion: so what does this confusion matrix help us to validate?"
   ],
   "outputs": [],
   "execution_count": null
  },
  {
   "metadata": {},
   "cell_type": "markdown",
   "source": "Step 10: Figuring what are the key drivers?",
   "id": "7847f9c9fa3b4767"
  },
  {
   "metadata": {},
   "cell_type": "code",
   "source": [
    "#understanding the importance of drivers / levers based on feature importance\n",
    "\n",
    "importance = pd.Series(model.feature_importances_, index=X.columns).sort_values(ascending=False)\n",
    "print(\"Feature Importances:\\n\", importance)\n",
    "\n",
    "#Discussion: so how does understanding these drivers help us to formulate better strategies or policies?"
   ],
   "id": "ee6c98393f7b9cd0",
   "outputs": [],
   "execution_count": null
  },
  {
   "metadata": {},
   "cell_type": "markdown",
   "source": "Step 11: Optimising constraints for understanding of the model?",
   "id": "befd13fd5585478c"
  },
  {
   "metadata": {},
   "cell_type": "code",
   "source": [
    "# Prepare experiment\n",
    "results = []\n",
    "test_sizes = [0.1, 0.2, 0.3]\n",
    "random_states = [1, 42, 99]\n",
    "\n",
    "# Loop over combinations\n",
    "for test_size in test_sizes:\n",
    "    for rand in random_states:\n",
    "        X_train, X_test, y_train, y_test = train_test_split(X, y, test_size=test_size, random_state=rand)\n",
    "        model = DecisionTreeClassifier(max_depth=3, random_state=rand)\n",
    "        model.fit(X_train, y_train)\n",
    "        y_pred = model.predict(X_test)\n",
    "        acc = accuracy_score(y_test, y_pred)\n",
    "        fi = model.feature_importances_\n",
    "\n",
    "        results.append({\n",
    "            \"test_size\": test_size,\n",
    "            \"random_state\": rand,\n",
    "            \"accuracy\": round(acc, 3),\n",
    "            \"Age_importance\": round(fi[0], 3),\n",
    "            \"JobSatisfaction_importance\": round(fi[1], 3),\n",
    "            \"MonthlyIncome_importance\": round(fi[2], 3),\n",
    "            \"DistanceFromHome_importance\": round(fi[3], 3),\n",
    "            \"OverTime_importance\": round(fi[4], 3)\n",
    "        })\n",
    "\n",
    "# Convert to DataFrame\n",
    "results_df = pd.DataFrame(results)\n",
    "results_df\n",
    "\n",
    "\n",
    "#💡 What students learn from this:\n",
    "#How model accuracy varies by test split and seed\n",
    "#Which features consistently matter most\n",
    "#Why tuning and reproducibility matter in ML"
   ],
   "id": "a5c23866a504d817",
   "outputs": [],
   "execution_count": null
  },
  {
   "cell_type": "markdown",
   "id": "a516fdd7",
   "metadata": {},
   "source": [
    "## 🧠 Reflection Questions\n",
    "- Which features are most influential in predicting attrition?\n",
    "- How would you act on this insight as an HR leader?\n",
    "- Would you use this model to automate decisions or guide conversations?\n"
   ]
  }
 ],
 "metadata": {
  "kernelspec": {
   "name": "python3",
   "language": "python",
   "display_name": "Python 3 (ipykernel)"
  }
 },
 "nbformat": 4,
 "nbformat_minor": 5
}
