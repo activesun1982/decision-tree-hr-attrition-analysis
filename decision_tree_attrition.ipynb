# ---------------------------
# 📘 Decision Tree for HR Attrition Prediction
# ---------------------------
# This notebook demonstrates how to use a Decision Tree Classifier in Python
# to predict employee attrition using HR data.
# Designed for learners aged 30–60 with basic Python skills.

# ---------------------------
# 🎯 Learning Objectives
# ---------------------------
# - Understand the intuition and structure behind Decision Trees
# - Train a Decision Tree Classifier using scikit-learn
# - Interpret model output to identify key attrition drivers
# - Connect insights to real-world HR decisions

# ---------------------------
# 1. Import Required Libraries
# ---------------------------
import pandas as pd
from sklearn.model_selection import train_test_split
from sklearn.tree import DecisionTreeClassifier, plot_tree
from sklearn.metrics import accuracy_score, confusion_matrix, ConfusionMatrixDisplay
import matplotlib.pyplot as plt

# ---------------------------
# 2. Load Dataset
# ---------------------------
# NOTE: You must upload 'WA_Fn-UseC_-HR-Employee-Attrition.csv' to your notebook environment.
df = pd.read_csv("WA_Fn-UseC_-HR-Employee-Attrition.csv")
df.head()

# ---------------------------
# 3. Data Preparation
# ---------------------------
# Keep selected columns for simplicity
df = df[["Attrition", "Age", "JobSatisfaction", "MonthlyIncome", "DistanceFromHome", "OverTime"]]
df['Attrition'] = df['Attrition'].map({'Yes': 1, 'No': 0})
df['OverTime'] = df['OverTime'].map({'Yes': 1, 'No': 0})
df.head()

# ---------------------------
# 4. Define Features and Target
# ---------------------------
X = df.drop("Attrition", axis=1)  # Features
y = df["Attrition"]               # Target variable

# ---------------------------
# 5. Train-Test Split
# ---------------------------
X_train, X_test, y_train, y_test = train_test_split(X, y, test_size=0.2, random_state=42)

# ---------------------------
# 6. Train a Decision Tree Classifier
# ---------------------------
model = DecisionTreeClassifier(max_depth=3, random_state=42)
model.fit(X_train, y_train)

# ---------------------------
# 7. Evaluate Accuracy
# ---------------------------
y_pred = model.predict(X_test)
print("Accuracy Score:", accuracy_score(y_test, y_pred))

# ---------------------------
# 8. Visualize the Decision Tree
# ---------------------------
plt.figure(figsize=(15, 8))
plot_tree(model, feature_names=X.columns, class_names=["Stay", "Leave"], filled=True)
plt.title("Decision Tree to Predict Employee Attrition")
plt.show()

# ---------------------------
# 9. Confusion Matrix
# ---------------------------
ConfusionMatrixDisplay.from_estimator(model, X_test, y_test, display_labels=["Stay", "Leave"])
plt.title("Confusion Matrix")
plt.show()

# ---------------------------
# 10. Feature Importance
# ---------------------------
importance = pd.Series(model.feature_importances_, index=X.columns).sort_values(ascending=False)
print("Feature Importances:\n", importance)

# ---------------------------
# 🧠 Reflection Questions (for discussion)
# ---------------------------
# - Which features are the most predictive of attrition?
# - How would you use these insights in an HR context?
# - What limitations or risks should be considered when interpreting this model?
